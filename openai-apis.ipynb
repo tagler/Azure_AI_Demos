{
 "cells": [
  {
   "cell_type": "markdown",
   "id": "80289467-e03b-4d7f-9fe7-cac58533b600",
   "metadata": {},
   "source": [
    "# OpenAI: Azure, APIs, and Agents"
   ]
  },
  {
   "cell_type": "markdown",
   "id": "37e87fc9-b1c1-4727-8346-40ec51507748",
   "metadata": {},
   "source": [
    "## Setup"
   ]
  },
  {
   "cell_type": "code",
   "execution_count": null,
   "id": "7e36936e-4b23-4982-b33f-4d6625713cb5",
   "metadata": {},
   "outputs": [],
   "source": [
    "# pip install openai-agents\n",
    "from agents import (\n",
    "    Agent,\n",
    "    OpenAIChatCompletionsModel,\n",
    "    Runner,\n",
    "    function_tool,\n",
    "    set_default_openai_api,\n",
    "    set_default_openai_client,\n",
    ")\n",
    "from openai import AzureOpenAI"
   ]
  },
  {
   "cell_type": "markdown",
   "id": "73b5d0d4-545e-4998-b83e-eaf2e08db4bb",
   "metadata": {},
   "source": [
    "## Connection"
   ]
  },
  {
   "cell_type": "code",
   "execution_count": null,
   "id": "4d98da4d-75aa-488c-b17f-ebfa708d64aa",
   "metadata": {
    "scrolled": true
   },
   "outputs": [],
   "source": [
    "# params\n",
    "azure_endpoint = \"https://XXXXXXXXXXXXXXXXXXXXXXXXXXX.openai.azure.com/\"\n",
    "api_key = \"XXXXXXXXXXXXXXXXXXXXXXXXXXXXXXXXXXXXXXXXXXXXXXXXXXXXXXXXXX\"\n",
    "model = \"gpt-4o-mini\"\n",
    "# https://learn.microsoft.com/azure/ai-services/openai/reference#rest-api-versioning\n",
    "api_version = \"2024-12-01-preview\"\n",
    "# connection\n",
    "client = AzureOpenAI(\n",
    "    api_version=api_version,\n",
    "    azure_endpoint=azure_endpoint,\n",
    "    api_key=api_key,\n",
    "    max_retries=3,\n",
    "    timeout=30,\n",
    ")"
   ]
  },
  {
   "cell_type": "markdown",
   "id": "9254bed7-e1cb-4ad4-b2c7-8080091642a9",
   "metadata": {},
   "source": [
    "## Chat Completion API (old)"
   ]
  },
  {
   "cell_type": "code",
   "execution_count": null,
   "id": "8d6491f7-ac3b-43ff-a203-016583dd2844",
   "metadata": {},
   "outputs": [],
   "source": [
    "completion = client.chat.completions.create(\n",
    "    model=model,\n",
    "    messages=[\n",
    "        {\n",
    "            \"role\": \"system\",\n",
    "            \"content\": \"You are an assistant that talks like a pirate\",\n",
    "        },\n",
    "        {\n",
    "            \"role\": \"user\",\n",
    "            \"content\": \"who was the lead singer of motley crue?\",\n",
    "        },\n",
    "    ],\n",
    "    temperature=0.2,\n",
    "    top_p=0.2,\n",
    "    max_tokens=200,\n",
    ")\n",
    "print(completion.to_dict(), end=\"\\n\\n\")\n",
    "print(completion.to_dict()[\"choices\"][0][\"message\"][\"content\"])"
   ]
  },
  {
   "cell_type": "markdown",
   "id": "d9a0c236-1807-427a-ac6a-61c1f94d1fb1",
   "metadata": {},
   "source": [
    "## Responses API (new)"
   ]
  },
  {
   "cell_type": "code",
   "execution_count": null,
   "id": "7f16c851-d166-499f-996b-ec2fbd8e8208",
   "metadata": {},
   "outputs": [],
   "source": [
    "response = client.responses.create(\n",
    "    model=model,\n",
    "    instructions=\"You are an assistant that talks like a pirate\",\n",
    "    input=\"who was the lead singer of Motley Crue?\",\n",
    "    temperature=0.2,\n",
    "    top_p=0.2,\n",
    "    max_output_tokens=100,\n",
    ")\n",
    "print(response.output_text)"
   ]
  },
  {
   "cell_type": "code",
   "execution_count": null,
   "id": "f36f0a55-a74d-422b-8d78-ab5c08233ee8",
   "metadata": {},
   "outputs": [],
   "source": [
    "# chat history and state is implemented via previous_response_id\n",
    "# chat loop\n",
    "last_id = None\n",
    "while True:\n",
    "    user_input = input(\"\\n> \")\n",
    "    if user_input.lower() in [\"exit\", \"quit\"]:\n",
    "        break\n",
    "    if last_id:\n",
    "        response = client.responses.create(\n",
    "            model=model,\n",
    "            input=user_input,\n",
    "            previous_response_id=last_id,\n",
    "            max_output_tokens=100,\n",
    "        )\n",
    "    else:\n",
    "        response = client.responses.create(\n",
    "            model=model,\n",
    "            input=user_input,\n",
    "            max_output_tokens=100,\n",
    "        )\n",
    "    last_id = response.id\n",
    "    print(\"\\n\" + response.output_text)"
   ]
  },
  {
   "cell_type": "code",
   "execution_count": null,
   "id": "d5b793c1-4def-4e97-b546-453f810c21df",
   "metadata": {},
   "outputs": [],
   "source": [
    "# built-in tools\n",
    "response_3 = client.responses.create(\n",
    "    model=model,\n",
    "    instructions=\"You are an assistant that talks like a pirate\",\n",
    "    input=\"who was the lead singer of Motley Crue as of 2025?\",\n",
    "    temperature=0.2,\n",
    "    top_p=0.2,\n",
    "    max_output_tokens=200,\n",
    "    tools=[{\"type\": \"web_search\"}],\n",
    ")\n",
    "print(response.output_text)"
   ]
  },
  {
   "cell_type": "markdown",
   "id": "e14ec4f6-8af7-4582-a67d-bd87b74ad3f4",
   "metadata": {},
   "source": [
    "## Agents"
   ]
  },
  {
   "cell_type": "code",
   "execution_count": null,
   "id": "79ce5da4-34e7-4f59-a887-33da6390f420",
   "metadata": {},
   "outputs": [],
   "source": [
    "# connection\n",
    "client = AzureOpenAI(\n",
    "    api_version=api_version,\n",
    "    azure_endpoint=azure_endpoint,\n",
    "    api_key=api_key,\n",
    "    max_retries=1,\n",
    "    timeout=30,\n",
    ")\n",
    "set_default_openai_client(client)"
   ]
  },
  {
   "cell_type": "code",
   "execution_count": null,
   "id": "02561020-6150-4fa4-9cdb-c9a7a4dadf4d",
   "metadata": {},
   "outputs": [],
   "source": [
    "# functions\n",
    "@function_tool\n",
    "def get_weather(city: str):\n",
    "    if city.lower() == \"chicago\":\n",
    "        return f\"The weather in {city} is sunny and 98 degrees F.\"\n",
    "    elif city.lower() == \"boston\":\n",
    "        return f\"The weather in {city} in rainy and 75 degrees F.\"\n",
    "    else:\n",
    "        return f\"no data on {city}\"\n",
    "\n",
    "\n",
    "@function_tool\n",
    "def multiply_numbers(number_1: float, number_2: float) -> float:\n",
    "    return number_1 * number_2"
   ]
  },
  {
   "cell_type": "code",
   "execution_count": null,
   "id": "01d54a5a-7c30-4b94-9770-ff709d30f0b6",
   "metadata": {},
   "outputs": [],
   "source": [
    "# agents\n",
    "weather_agent = Agent(\n",
    "    name=\"weather agent\",\n",
    "    instructions=\"You look up the weather using your get_weather tool\",\n",
    "    tools=[get_weather],\n",
    ")\n",
    "\n",
    "math_agent = Agent(\n",
    "    name=\"math agent\", instructions=\"You only speak English\", tools=[multiply_numbers]\n",
    ")\n",
    "\n",
    "triage_agent = Agent(\n",
    "    name=\"Triage agent\",\n",
    "    instructions=\"Handoff to the appropriate agent based on the language of the request.\",\n",
    "    handoffs=[weather_agent, math_agent],\n",
    ")"
   ]
  },
  {
   "cell_type": "code",
   "execution_count": null,
   "id": "41fe2b03-0c2b-45b8-ae7c-a7a36c9b54bb",
   "metadata": {},
   "outputs": [],
   "source": [
    "# run\n",
    "result = await Runner.run(\n",
    "    triage_agent,\n",
    "    input=\"what is the temperature in chicago multiplied by the temperature in boston?\",\n",
    ")\n",
    "print(result.final_output)"
   ]
  },
  {
   "cell_type": "markdown",
   "id": "96cbda52-b42f-4df3-a02c-6ac2699f0fe9",
   "metadata": {},
   "source": [
    "## Swarm"
   ]
  },
  {
   "cell_type": "code",
   "execution_count": null,
   "id": "568b9f50-6057-47c0-9772-7638d934e26f",
   "metadata": {},
   "outputs": [],
   "source": [
    "# pip install git+https://github.com/openai/swarm.git\n",
    "from swarm import Agent, Swarm"
   ]
  },
  {
   "cell_type": "code",
   "execution_count": null,
   "id": "be034653-2b07-4d2f-9222-22ed36e6c878",
   "metadata": {},
   "outputs": [],
   "source": [
    "# connection\n",
    "swarm_client = Swarm(client=client)"
   ]
  },
  {
   "cell_type": "code",
   "execution_count": null,
   "id": "2f8ebcba-5126-45b9-8c78-23e2dd8d802a",
   "metadata": {},
   "outputs": [],
   "source": [
    "# tools\n",
    "def transfer_to_agent_b():\n",
    "    return agent_b"
   ]
  },
  {
   "cell_type": "code",
   "execution_count": null,
   "id": "22fe7574-c0e5-4cdb-9fb9-ecc1c817b095",
   "metadata": {},
   "outputs": [],
   "source": [
    "# agents\n",
    "agent_a = Agent(\n",
    "    name=\"Agent A\",\n",
    "    instructions=\"You are a helpful agent.\",\n",
    "    functions=[transfer_to_agent_b],\n",
    ")\n",
    "\n",
    "agent_b = Agent(\n",
    "    name=\"Agent B\",\n",
    "    instructions=\"Only speak in Haikus.\",\n",
    ")"
   ]
  },
  {
   "cell_type": "code",
   "execution_count": null,
   "id": "f5c27824-4ecc-4ce2-897a-35d287a3bc40",
   "metadata": {},
   "outputs": [],
   "source": [
    "# run\n",
    "response = swarm_client.run(\n",
    "    agent=agent_a,\n",
    "    messages=[{\"role\": \"user\", \"content\": \"I want to talk to agent B.\"}],\n",
    ")\n",
    "\n",
    "print(response.messages[-1][\"content\"])"
   ]
  },
  {
   "cell_type": "code",
   "execution_count": null,
   "id": "a9db54d5-b17a-4c3f-b4a1-98dc6e5b0350",
   "metadata": {},
   "outputs": [],
   "source": []
  }
 ],
 "metadata": {
  "kernelspec": {
   "display_name": "Python 3 (ipykernel)",
   "language": "python",
   "name": "python3"
  },
  "language_info": {
   "codemirror_mode": {
    "name": "ipython",
    "version": 3
   },
   "file_extension": ".py",
   "mimetype": "text/x-python",
   "name": "python",
   "nbconvert_exporter": "python",
   "pygments_lexer": "ipython3",
   "version": "3.13.2"
  }
 },
 "nbformat": 4,
 "nbformat_minor": 5
}
