{
 "cells": [
  {
   "cell_type": "markdown",
   "id": "8275f98b-3aa8-4638-b2a0-d63beb905a4c",
   "metadata": {},
   "source": [
    "# AutoGen: Multi-Agent Orchestration"
   ]
  },
  {
   "cell_type": "markdown",
   "id": "9687c6a4-6543-4215-aa73-27f12ff68834",
   "metadata": {},
   "source": [
    "## Setup"
   ]
  },
  {
   "cell_type": "code",
   "execution_count": null,
   "id": "feb71126-41fe-4fc0-bea9-bce4e564f074",
   "metadata": {},
   "outputs": [],
   "source": [
    "from autogen_agentchat.agents import AssistantAgent, CodeExecutorAgent, UserProxyAgent\n",
    "from autogen_agentchat.base import TaskResult\n",
    "from autogen_agentchat.conditions import (\n",
    "    ExternalTermination,\n",
    "    HandoffTermination,\n",
    "    MaxMessageTermination,\n",
    "    TextMentionTermination,\n",
    ")\n",
    "from autogen_agentchat.messages import (\n",
    "    AgentEvent,\n",
    "    ChatMessage,\n",
    "    HandoffMessage,\n",
    "    MultiModalMessage,\n",
    "    TextMessage,\n",
    ")\n",
    "from autogen_agentchat.teams import (\n",
    "    MagenticOneGroupChat,\n",
    "    RoundRobinGroupChat,\n",
    "    SelectorGroupChat,\n",
    "    Swarm,\n",
    ")\n",
    "from autogen_agentchat.ui import Console\n",
    "from autogen_core import CancellationToken\n",
    "from autogen_core import Image as AGImage\n",
    "from autogen_core.code_executor import CodeBlock\n",
    "from autogen_core.model_context import BufferedChatCompletionContext\n",
    "from autogen_core.tools import FunctionTool\n",
    "from autogen_ext.code_executors.docker import DockerCommandLineCodeExecutor\n",
    "from autogen_ext.code_executors.local import LocalCommandLineCodeExecutor\n",
    "from autogen_ext.models.openai import (\n",
    "    AzureOpenAIChatCompletionClient,\n",
    "    OpenAIChatCompletionClient,\n",
    ")\n",
    "from autogen_ext.tools import semantic_kernel\n",
    "from azure.core.credentials import AzureKeyCredential\n",
    "from azure.identity import DefaultAzureCredential, get_bearer_token_provider"
   ]
  },
  {
   "cell_type": "markdown",
   "id": "9332e10a-c08f-4e37-a6be-064b3b813a76",
   "metadata": {},
   "source": [
    "## Connection"
   ]
  },
  {
   "cell_type": "code",
   "execution_count": null,
   "id": "df3bc171-5083-4f4a-960a-a88a1a3451ae",
   "metadata": {},
   "outputs": [],
   "source": [
    "# api token auth\n",
    "# model connection\n",
    "model_client = AzureOpenAIChatCompletionClient(\n",
    "    model=\"gpt-4o-mini\",\n",
    "    api_version=\"2024-10-21\",\n",
    "    azure_endpoint=\"https://XXXXXXXXXXXXXXXXXXXXXXXXX.openai.azure.com\",\n",
    "    api_key=\"XXXXXXXXXXXXXXXXXXXXXXXXXXXXXXXXXXXXXXXXXXXXXXXXXXXXXX\",\n",
    ")\n",
    "\n",
    "# azure token auth\n",
    "# need to have \"Cog Services OpenAI User\" role assinged in cog services resource\n",
    "token_provider = get_bearer_token_provider(\n",
    "    DefaultAzureCredential(), \"https://cognitiveservices.azure.com/.default\"\n",
    ")\n",
    "az_model_client = AzureOpenAIChatCompletionClient(\n",
    "    azure_deployment=\"gpt-4o-mini\",\n",
    "    model=\"gpt-4o-mini\",\n",
    "    api_version=\"2024-10-21\",\n",
    "    azure_endpoint=\"https://XXXXXXXXXXXXXXXXXXXXXXXXXXXXXX.openai.azure.com/\",\n",
    "    azure_ad_token_provider=token_provider,\n",
    ")"
   ]
  },
  {
   "cell_type": "markdown",
   "id": "637a050a-791d-41d9-b770-2bfe3b6bd03e",
   "metadata": {},
   "source": [
    "## Tools"
   ]
  },
  {
   "cell_type": "code",
   "execution_count": null,
   "id": "9e9ac5c8-5ddc-4678-8d66-63524c063eba",
   "metadata": {},
   "outputs": [],
   "source": [
    "# tools\n",
    "async def get_weather(city: str) -> str:\n",
    "    \"\"\"Get the weather/temperature for a given city.\"\"\"\n",
    "    if city.upper() == \"CHICAGO\":\n",
    "        temp = 12\n",
    "    elif city.upper() == \"NEW YORK\":\n",
    "        temp = 43\n",
    "    elif city.upper() == \"NOTRE DAME\":\n",
    "        temp = 1842\n",
    "    else:\n",
    "        temp = 79\n",
    "    return f\"The weather in {city} is {temp} degrees.\"\n",
    "\n",
    "\n",
    "async def web_search(query: str) -> str:\n",
    "    \"\"\"Find information on the web\"\"\"\n",
    "    if \"notre dame\" in query.lower():\n",
    "        return \"Notre Dame is the best college in the United States\"\n",
    "    else:\n",
    "        return \"no information found\""
   ]
  },
  {
   "cell_type": "code",
   "execution_count": null,
   "id": "c30422e4-7bda-4553-ad7b-d8c5077f2d6d",
   "metadata": {},
   "outputs": [],
   "source": [
    "web_search_function_tool = FunctionTool(\n",
    "    web_search, description=\"Find information on the web\"\n",
    ")\n",
    "web_search_function_tool.schema"
   ]
  },
  {
   "cell_type": "markdown",
   "id": "11747ef4-b61a-4b75-bd67-3959578e196a",
   "metadata": {},
   "source": [
    "## Assistant Agent"
   ]
  },
  {
   "cell_type": "code",
   "execution_count": null,
   "id": "5cbd95df-cea1-4e85-9fa3-8c7c330fe538",
   "metadata": {},
   "outputs": [],
   "source": [
    "# define agent\n",
    "# has built-in menory/history, maintains state on method calls\n",
    "agent = AssistantAgent(\n",
    "    name=\"question_agent\",\n",
    "    model_client=model_client,\n",
    "    tools=[get_weather, web_search],\n",
    "    system_message=\"\"\"\n",
    "    Use tools to solve tasks \n",
    "    1. talk in a pirate accent\n",
    "    2. answer in complete sentences \n",
    "    \"\"\",\n",
    "    reflect_on_tool_use=True,\n",
    "    model_client_stream=True,\n",
    ")"
   ]
  },
  {
   "cell_type": "code",
   "execution_count": null,
   "id": "42189c5f-1de3-4daa-8b22-145c02dd9d23",
   "metadata": {},
   "outputs": [],
   "source": [
    "# to limit history, use model_context\n",
    "# model_context=BufferedChatCompletionContext(buffer_size=5)"
   ]
  },
  {
   "cell_type": "markdown",
   "id": "c7c976ff-365f-49ea-86aa-da952f00451b",
   "metadata": {},
   "source": [
    "## Messages"
   ]
  },
  {
   "cell_type": "code",
   "execution_count": null,
   "id": "b4714751-dae8-4d26-8b5a-a7124560cfc4",
   "metadata": {},
   "outputs": [],
   "source": [
    "# message agent\n",
    "# same as agent run()\n",
    "response = await agent.on_messages(\n",
    "    [TextMessage(content=\"Tell me about Notre Dame\", source=\"user\")],\n",
    "    cancellation_token=CancellationToken(),\n",
    ")\n",
    "print(response.inner_messages)\n",
    "print(response.chat_message)"
   ]
  },
  {
   "cell_type": "code",
   "execution_count": null,
   "id": "3994e7ef-5ee1-479c-974c-884aa597bef1",
   "metadata": {},
   "outputs": [],
   "source": [
    "# stream message\n",
    "# same as agent.run_stream()\n",
    "response = await Console(\n",
    "    agent.on_messages_stream(\n",
    "        [TextMessage(content=\"Tell me about Notre Dame\", source=\"user\")],\n",
    "        cancellation_token=CancellationToken(),\n",
    "    ),\n",
    "    output_stats=True,\n",
    ")"
   ]
  },
  {
   "cell_type": "code",
   "execution_count": null,
   "id": "ccab56c0-d27a-4c0d-b402-c6c1b40eb06c",
   "metadata": {},
   "outputs": [],
   "source": [
    "# multi-modal messages\n",
    "# img = AGImage(pil_image)\n",
    "# multi_modal_message = MultiModalMessage(content=[\"Can you describe the content of this image?\", img], source=\"User\")"
   ]
  },
  {
   "cell_type": "markdown",
   "id": "408d4381-3c33-4f8a-8c93-953fbb80af36",
   "metadata": {},
   "source": [
    "## State"
   ]
  },
  {
   "cell_type": "code",
   "execution_count": null,
   "id": "ad6eb784-7425-4181-bcf4-6995aa34cf89",
   "metadata": {},
   "outputs": [],
   "source": [
    "agent_state = await agent.save_state()\n",
    "print(agent_state)\n",
    "await agent.load_state(agent_state)"
   ]
  },
  {
   "cell_type": "markdown",
   "id": "776c1ebd-7dde-403d-b5bd-050302b0c881",
   "metadata": {},
   "source": [
    "## Pre-Built Agents"
   ]
  },
  {
   "cell_type": "code",
   "execution_count": null,
   "id": "cee41e89-5557-4a36-81f5-c360bdd8c387",
   "metadata": {},
   "outputs": [],
   "source": [
    "# UserProxyAgent: An agent that takes user input returns it as responses.\n",
    "# CodeExecutorAgent: An agent that can execute code.\n",
    "# MultimodalWebSurfer: A multi-modal agent that can search the web and visit web pages for information.\n",
    "# FileSurfer: An agent that can search and browse local files for information.\n",
    "# VideoSurfer: An agent that can watch videos for information."
   ]
  },
  {
   "cell_type": "code",
   "execution_count": null,
   "id": "7ccdda42-31c2-41ae-8b1e-bbc407b22399",
   "metadata": {},
   "outputs": [],
   "source": [
    "# code executor\n",
    "# note: need to install docker on host system\n",
    "code_executor = DockerCommandLineCodeExecutor(work_dir=\"coding\")\n",
    "code_executor_agent = CodeExecutorAgent(\"code_executor\", code_executor=code_executor)\n",
    "await code_executor.start()\n",
    "task = TextMessage(\n",
    "    content=\"\"\"Here is some code\n",
    "```python\n",
    "x=2+2\n",
    "print(x)\n",
    "```\n",
    "\"\"\",\n",
    "    source=\"user\",\n",
    ")\n",
    "response = await code_executor_agent.on_messages([task], CancellationToken())\n",
    "await code_executor.stop()\n",
    "print(response)\n",
    "print(response.chat_message.content)"
   ]
  },
  {
   "cell_type": "markdown",
   "id": "41719b2f-e94b-47fe-bb0a-014f3fbd2167",
   "metadata": {},
   "source": [
    "## Teams: RoundRobin Group Chat "
   ]
  },
  {
   "cell_type": "code",
   "execution_count": null,
   "id": "83afe2fd-7f0e-45d5-9066-912de9b076e1",
   "metadata": {},
   "outputs": [],
   "source": [
    "# define agents\n",
    "# agent 1\n",
    "researcher_agent = AssistantAgent(\n",
    "    \"researcher\",\n",
    "    model_client=model_client,\n",
    "    system_message=\"\"\"\n",
    "    You are a helpful AI assistant for conducting scientific research. \n",
    "    You are an expert in biology and chemistry. \n",
    "    \"\"\",\n",
    ")\n",
    "# agent 2\n",
    "critic_agent = AssistantAgent(\n",
    "    \"critic\",\n",
    "    model_client=model_client,\n",
    "    system_message=\"\"\"\n",
    "    Provide constructive feedback to the researcher.\n",
    "    You are an expert in biology and chemistry. \n",
    "    Respond with 'APPROVE' to when your feedbacks are addressed. \n",
    "    Do not approve the first version you read, review the revision(s) and confrim it has been improved per your reccomendations\n",
    "    \"\"\",\n",
    ")"
   ]
  },
  {
   "cell_type": "code",
   "execution_count": null,
   "id": "06aa2edd-7cc7-4e3f-a371-bf8c5827bfc2",
   "metadata": {},
   "outputs": [],
   "source": [
    "# termination\n",
    "text_termination = TextMentionTermination(\"APPROVE\")\n",
    "# other options:\n",
    "# messages -> MaxMessageTermination\n",
    "# tokens -> TokenUsageTermination\n",
    "# timeout -> TimeoutTermination\n",
    "# stop message -> StopMessageTermination\n",
    "# tool call -> FunctionCallTermination\n",
    "# external control -> ExternalTermination\n",
    "# - run = asyncio.create_task(Console(team.run_stream(task=\"...\")))\n",
    "# - external_termination = ExternalTermination()\n",
    "# - use external_termination.set() to stop async run\n",
    "# - use cancellation_token.cancel() to cancel async run"
   ]
  },
  {
   "cell_type": "code",
   "execution_count": null,
   "id": "cbb35c3e-6297-45d2-8903-91aa1b852d6c",
   "metadata": {},
   "outputs": [],
   "source": [
    "# define team\n",
    "team = RoundRobinGroupChat(\n",
    "    participants=[researcher_agent, critic_agent],\n",
    "    termination_condition=text_termination,\n",
    "    max_turns=10,\n",
    ")"
   ]
  },
  {
   "cell_type": "code",
   "execution_count": null,
   "id": "5c29db6b-0719-484d-bfbc-f4b1e070124f",
   "metadata": {},
   "outputs": [],
   "source": [
    "# run team\n",
    "result = await team.run(task=\"Write a summary about the central dogma of biology\")"
   ]
  },
  {
   "cell_type": "code",
   "execution_count": null,
   "id": "8d7a915a-ff08-44c9-9bde-38ad7241e145",
   "metadata": {},
   "outputs": [],
   "source": [
    "# messages\n",
    "for each_message in result.messages:\n",
    "    print(each_message, end=\"\\n\\n\")"
   ]
  },
  {
   "cell_type": "code",
   "execution_count": null,
   "id": "978b8725-ced1-4a65-afb6-ce709bdb4e0c",
   "metadata": {},
   "outputs": [],
   "source": [
    "# stream messages\n",
    "await team.reset()\n",
    "async for message in team.run_stream(\n",
    "    task=\"Write a summary about the central dogma of biology\"\n",
    "):\n",
    "    if isinstance(message, TaskResult):\n",
    "        print(\"Stop Reason:\", message.stop_reason)\n",
    "    else:\n",
    "        print(message)"
   ]
  },
  {
   "cell_type": "code",
   "execution_count": null,
   "id": "d4f81f25-247b-4747-947b-bc6a5a26f75b",
   "metadata": {},
   "outputs": [],
   "source": [
    "# console printing\n",
    "await team.reset()\n",
    "reponse = await Console(\n",
    "    team.run_stream(task=\"Write a summary about the central dogma of biology\"),\n",
    "    output_stats=True,\n",
    ")"
   ]
  },
  {
   "cell_type": "markdown",
   "id": "18abae5d-fd94-4194-b64e-a1a506ffb529",
   "metadata": {},
   "source": [
    "## Teams: Selector Group Chat"
   ]
  },
  {
   "cell_type": "code",
   "execution_count": null,
   "id": "66e2d5c8-ca9d-4b70-a9b1-34593c485d7d",
   "metadata": {},
   "outputs": [],
   "source": [
    "# note: for reasoning models (i.e. o3-mini), you don't need a planning agent"
   ]
  },
  {
   "cell_type": "markdown",
   "id": "636f34e4-c03e-41a8-8545-a5917148d39c",
   "metadata": {},
   "source": [
    "### tools"
   ]
  },
  {
   "cell_type": "code",
   "execution_count": null,
   "id": "359c0861-0cf3-42fc-a423-07ca6d7aebc2",
   "metadata": {},
   "outputs": [],
   "source": [
    "def bank_balance_tool(year: str) -> str:\n",
    "    \"\"\"\n",
    "    Tool that looks up bank balance in US Dollars for a year (4-digits, i.e. 1999)\n",
    "    \"\"\"\n",
    "    if year == \"2020\":\n",
    "        return f\"Your bank balance was $1,000 in {year}\"\n",
    "    elif year == \"2021\":\n",
    "        return f\"Your bank balance was $5,000 in {year}\"\n",
    "    elif year == \"2022\":\n",
    "        return f\"Your bank balance was $10,000 in {year}\"\n",
    "    elif year == \"2023\":\n",
    "        return f\"Your bank balance was $100,000 in {year}\"\n",
    "    elif year == \"2024\":\n",
    "        return f\"Your bank balance was $200,000 in {year}\"\n",
    "    elif year == \"2025\":\n",
    "        return f\"Your bank balance is $500,000 in {year}, wow!\"\n",
    "    else:\n",
    "        return f\"No Data for {year}\"\n",
    "\n",
    "\n",
    "def bank_credit_apply_tool(balance: float | int) -> str:\n",
    "    \"\"\"\n",
    "    Tools that uses a customer's bank balance to determine if they are approved for a line of credit\n",
    "    \"\"\"\n",
    "    if balance >= 100_000:\n",
    "        return \"Approved\"\n",
    "    else:\n",
    "        return \"Not Approved\"\n",
    "\n",
    "\n",
    "def average_tool(list_of_numbers: list[int | float]) -> float:\n",
    "    \"\"\"\n",
    "    Tool that calcualtes the average (mean) of an array of numbers\n",
    "    \"\"\"\n",
    "    n = len(list_of_numbers)\n",
    "    sum_of_numbers = sum(list_of_numbers)\n",
    "    return sum_of_numbers / n"
   ]
  },
  {
   "cell_type": "markdown",
   "id": "29168e7a-6d32-4c54-abd9-0b14c2d9bd4a",
   "metadata": {},
   "source": [
    "### agents"
   ]
  },
  {
   "cell_type": "code",
   "execution_count": null,
   "id": "b1482bdb-11cc-44f4-ab53-f10ba370a424",
   "metadata": {},
   "outputs": [],
   "source": [
    "# planning agent\n",
    "planning_agent = AssistantAgent(\n",
    "    \"PlanningAgent\",\n",
    "    description=\"An agent for planning tasks, this agent should be the first to engage when given a new task.\",\n",
    "    model_client=model_client,\n",
    "    system_message=\"\"\"\n",
    "    You are a planning agent.\n",
    "    Your job is to break down complex tasks into smaller, manageable subtasks.\n",
    "    \n",
    "    Your team members are:\n",
    "        BankLookupAgent: Searches for bank balance information\n",
    "        DataAnalystAgent: Performs calculations\n",
    "        \n",
    "    You only plan and delegate tasks - you do not execute them yourself.\n",
    "    \n",
    "    When assigning tasks, use this format:\n",
    "    1. <agent> : <task>\n",
    "    \n",
    "    After all tasks are completed by other agents, summarize the findings and end with \"TERMINATE\".\n",
    "    \"\"\",\n",
    ")\n",
    "\n",
    "# agent 2\n",
    "bank_agent = AssistantAgent(\n",
    "    \"BankAgent\",\n",
    "    description=\"An agent for getting bank information and applying for credit\",\n",
    "    tools=[bank_balance_tool, bank_credit_apply_tool],\n",
    "    model_client=model_client,\n",
    "    system_message=\"\"\"\n",
    "    You are a bank agent.\n",
    "    Your tools are \n",
    "        1. bank_balance_tool  - use it to find the customer's bank balance for a given year\n",
    "        2. bank_credit_apply_tool - use it to apply for credit\n",
    "    You make only one search call at a time.\n",
    "    Once you have the results, do not do any calculations with them.\n",
    "    \"\"\",\n",
    ")\n",
    "\n",
    "# agent 3\n",
    "data_analyst_agent = AssistantAgent(\n",
    "    \"DataAnalystAgent\",\n",
    "    description=\"An agent for performing calculations\",\n",
    "    model_client=model_client,\n",
    "    tools=[average_tool],\n",
    "    system_message=\"\"\"\n",
    "    You are a data analyst.\n",
    "    Given the tasks you have been assigned, you should analyze the data and provide results using the tools provided.\n",
    "    If you do not have the data needed, ask the other agents for it and then try again. \n",
    "    \"\"\",\n",
    ")\n",
    "\n",
    "# termination conditions\n",
    "text_mention_termination = TextMentionTermination(\"TERMINATE\")\n",
    "max_messages_termination = MaxMessageTermination(max_messages=15)\n",
    "termination = text_mention_termination | max_messages_termination"
   ]
  },
  {
   "cell_type": "markdown",
   "id": "cd9acd2d-8e69-4984-ac8e-7b955114d026",
   "metadata": {},
   "source": [
    "## team"
   ]
  },
  {
   "cell_type": "code",
   "execution_count": null,
   "id": "9706bbfc-88d1-4e10-8088-669306c59f44",
   "metadata": {},
   "outputs": [],
   "source": [
    "selector_prompt = \"\"\"\n",
    "Select an agent to perform task.\n",
    "{roles}\n",
    "Current conversation context:\n",
    "{history}\n",
    "Read the above conversation, then select an agent from {participants} to perform the next task.\n",
    "Make sure the planner agent has assigned tasks before other agents start working.\n",
    "Only select one agent.\n",
    "\"\"\""
   ]
  },
  {
   "cell_type": "code",
   "execution_count": null,
   "id": "7112ae90-c67c-4871-9a64-8258ed248f3f",
   "metadata": {},
   "outputs": [],
   "source": [
    "team = SelectorGroupChat(\n",
    "    [planning_agent, bank_agent, data_analyst_agent],\n",
    "    model_client=model_client,\n",
    "    termination_condition=termination,\n",
    "    selector_prompt=selector_prompt,\n",
    "    allow_repeated_speaker=True,\n",
    ")"
   ]
  },
  {
   "cell_type": "markdown",
   "id": "bc624766-fe13-4080-81de-515ef38f975f",
   "metadata": {},
   "source": [
    "### run"
   ]
  },
  {
   "cell_type": "code",
   "execution_count": null,
   "id": "f072b582-981e-462a-9880-9118ea3c6941",
   "metadata": {},
   "outputs": [],
   "source": [
    "task = \"\"\"\n",
    "Instructions:\n",
    "Determine my average bank balance for the years 2019-2025, and then check if the bank will aprove a line of credit for me\n",
    "Note: If a year has no bank blaance data, then ignore that year, do not use $0 for that year\n",
    "\"\"\"\n",
    "await Console(team.run_stream(task=task))"
   ]
  },
  {
   "cell_type": "code",
   "execution_count": null,
   "id": "82818131-098c-4782-80cd-a95f1e00aeb8",
   "metadata": {},
   "outputs": [],
   "source": [
    "# note: use selector_func param to customize selection process/sequence\n",
    "def selector_func(messages) -> str | None:\n",
    "    if messages[-1].source != planning_agent.name:\n",
    "        return planning_agent.name\n",
    "    return None\n",
    "\n",
    "\n",
    "team = SelectorGroupChat(\n",
    "    [planning_agent, bank_agent, data_analyst_agent],\n",
    "    model_client=model_client,\n",
    "    termination_condition=termination,\n",
    "    selector_prompt=selector_prompt,\n",
    "    allow_repeated_speaker=True,\n",
    ")\n",
    "\n",
    "await Console(team.run_stream(task=task))"
   ]
  },
  {
   "cell_type": "markdown",
   "id": "8b5494d2-51ef-410c-9117-c768c0a0806b",
   "metadata": {},
   "source": [
    "## Teams: Swarm "
   ]
  },
  {
   "cell_type": "code",
   "execution_count": null,
   "id": "feb75447-638a-48dd-9964-c0933f3c5dec",
   "metadata": {},
   "outputs": [],
   "source": [
    "# note: swam does not use a \"planner agent\"\n",
    "# agent 1\n",
    "bank_agent = AssistantAgent(\n",
    "    \"BankAgent\",\n",
    "    description=\"An agent for getting bank information and applying for credit\",\n",
    "    tools=[bank_balance_tool, bank_credit_apply_tool],\n",
    "    model_client=model_client,\n",
    "    handoffs=[\"data_analyst_agent\", \"user\"],\n",
    "    system_message=\"\"\"\n",
    "    You are a bank agent.\n",
    "    Your tools are \n",
    "        1. bank_balance_tool  - use it to find the customer's bank balance for a given year\n",
    "        2. bank_credit_apply_tool - use it to apply for credit\n",
    "    You make only one search call at a time.\n",
    "    Once you have the results, do not do any calculations with them.\n",
    "    \"\"\",\n",
    ")\n",
    "\n",
    "# agent 2\n",
    "data_analyst_agent = AssistantAgent(\n",
    "    \"DataAnalystAgent\",\n",
    "    description=\"An agent for performing calculations\",\n",
    "    model_client=model_client,\n",
    "    handoffs=[\"bank_agent\", \"user\"],\n",
    "    tools=[average_tool],\n",
    "    system_message=\"\"\"\n",
    "    You are a data analyst.\n",
    "    Given the tasks you have been assigned, you should analyze the data and provide results using the tools provided.\n",
    "    If you do not have the data needed, ask the other agents for it and then try again. \n",
    "    \"\"\",\n",
    ")\n",
    "\n",
    "# termination\n",
    "termination = HandoffTermination(target=\"user\") | TextMentionTermination(\"TERMINATE\")\n",
    "team = Swarm([bank_agent, data_analyst_agent], termination_condition=termination)"
   ]
  },
  {
   "cell_type": "code",
   "execution_count": null,
   "id": "b1d191d6-f1bd-48af-82e4-61873080c708",
   "metadata": {},
   "outputs": [],
   "source": [
    "task = \"\"\"\n",
    "Instructions:\n",
    "Determine my average bank balance for the years 20024-2025, and then check if the bank will aprove a line of credit for me\n",
    "\"\"\"\n",
    "\n",
    "task_result = await Console(team.run_stream(task=task))\n",
    "last_message = task_result.messages[-1]\n",
    "\n",
    "while isinstance(last_message, HandoffMessage) and last_message.target == \"user\":\n",
    "    user_message = input(\"User: \")\n",
    "\n",
    "    task_result = await Console(\n",
    "        team.run_stream(\n",
    "            task=HandoffMessage(\n",
    "                source=\"user\", target=last_message.source, content=user_message\n",
    "            )\n",
    "        )\n",
    "    )\n",
    "    last_message = task_result.messages[-1]"
   ]
  },
  {
   "cell_type": "code",
   "execution_count": null,
   "id": "3e1c312f-b691-42f8-9054-f3d2697a239d",
   "metadata": {},
   "outputs": [],
   "source": []
  }
 ],
 "metadata": {
  "kernelspec": {
   "display_name": "Python 3 (ipykernel)",
   "language": "python",
   "name": "python3"
  },
  "language_info": {
   "codemirror_mode": {
    "name": "ipython",
    "version": 3
   },
   "file_extension": ".py",
   "mimetype": "text/x-python",
   "name": "python",
   "nbconvert_exporter": "python",
   "pygments_lexer": "ipython3",
   "version": "3.13.2"
  }
 },
 "nbformat": 4,
 "nbformat_minor": 5
}
