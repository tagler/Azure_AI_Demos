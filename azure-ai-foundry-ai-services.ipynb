{
 "cells": [
  {
   "cell_type": "markdown",
   "id": "2c5ccad8-e215-455b-a48b-d953a201ebe1",
   "metadata": {},
   "source": [
    "# Azure AI Foundry: Models, AI Search, AI Document Intelligence, Agent Service"
   ]
  },
  {
   "cell_type": "markdown",
   "id": "b4f5f9d3-682f-4041-b694-b902b4710d53",
   "metadata": {},
   "source": [
    "## Setup"
   ]
  },
  {
   "cell_type": "code",
   "execution_count": null,
   "id": "76b26b8f-40f3-471f-8997-421d2d3750ce",
   "metadata": {},
   "outputs": [],
   "source": [
    "import json\n",
    "from dataclasses import dataclass\n",
    "\n",
    "import requests\n",
    "\n",
    "# ai document intelligence\n",
    "from azure.ai.documentintelligence import DocumentIntelligenceClient\n",
    "from azure.ai.documentintelligence.models import AnalyzeDocumentRequest, AnalyzeResult\n",
    "from azure.ai.inference import ChatCompletionsClient, EmbeddingsClient\n",
    "from azure.ai.inference.prompts import PromptTemplate\n",
    "\n",
    "# ai foundary\n",
    "from azure.ai.projects import AIProjectClient\n",
    "from azure.ai.projects.models import (\n",
    "    AzureAISearchTool,\n",
    "    AzureFunctionStorageQueue,\n",
    "    AzureFunctionTool,\n",
    "    BingGroundingTool,\n",
    "    CodeInterpreterTool,\n",
    "    ConnectionType,\n",
    "    FileSearchTool,\n",
    ")\n",
    "\n",
    "# azure\n",
    "from azure.core.credentials import AzureKeyCredential\n",
    "from azure.identity import DefaultAzureCredential, get_bearer_token_provider\n",
    "\n",
    "# ai search\n",
    "from azure.search.documents import SearchClient\n",
    "from azure.search.documents.indexes import SearchIndexClient"
   ]
  },
  {
   "cell_type": "markdown",
   "id": "b6010f17-9f05-4be7-90ba-84de3869c730",
   "metadata": {},
   "source": [
    "## Authentication"
   ]
  },
  {
   "cell_type": "code",
   "execution_count": null,
   "id": "0b56f240-0856-48ac-86d7-080532cf33d9",
   "metadata": {
    "scrolled": true
   },
   "outputs": [],
   "source": [
    "!az login"
   ]
  },
  {
   "cell_type": "code",
   "execution_count": null,
   "id": "f19a921c-c133-4843-a3fe-964d37d85525",
   "metadata": {},
   "outputs": [],
   "source": [
    "credential = DefaultAzureCredential()"
   ]
  },
  {
   "cell_type": "markdown",
   "id": "aa161241-3fe6-42f7-8c2b-740d50dfbd74",
   "metadata": {},
   "source": [
    "## Connection"
   ]
  },
  {
   "cell_type": "code",
   "execution_count": null,
   "id": "ef6a2f59-7967-4e74-88e4-463e5c4369d4",
   "metadata": {},
   "outputs": [],
   "source": [
    "# project connection\n",
    "project_connection_string = (\n",
    "    \"eastus2.api.azureml.ms;XXXXXXXXXXXXXXXXXXXXXXXXXXXXXXXXXXXXXXXXXXX\"\n",
    ")\n",
    "project = AIProjectClient.from_connection_string(\n",
    "    conn_str=project_connection_string, credential=credential\n",
    ")"
   ]
  },
  {
   "cell_type": "code",
   "execution_count": null,
   "id": "46eabbcb-7cdb-4dee-bbbe-28ddd797c7f5",
   "metadata": {},
   "outputs": [],
   "source": [
    "# List the properties of all connections\n",
    "connections = project.connections.list()\n",
    "print(f\"Listing of all connections ({len(connections)}):\")\n",
    "for connection in connections:\n",
    "    print(connection)"
   ]
  },
  {
   "cell_type": "code",
   "execution_count": null,
   "id": "012081d9-5d54-4551-9931-a211ae8fa977",
   "metadata": {},
   "outputs": [],
   "source": [
    "# get endpoints and api keys\n",
    "connection_names = []\n",
    "connections = project.connections.list()\n",
    "for each_connection in connections:\n",
    "    connection_names.append(each_connection.name)\n",
    "connection_endpoints_keys = []\n",
    "for each_connection_name in connection_names:\n",
    "    try:\n",
    "        each_connection = project.connections.get(\n",
    "            connection_name=each_connection_name,\n",
    "            include_credentials=True,\n",
    "        )\n",
    "        each_output = {\n",
    "            \"name\": each_connection.name,\n",
    "            \"endpoint\": each_connection.endpoint_url,\n",
    "            \"connection_type\": each_connection.connection_type,\n",
    "            \"key\": each_connection.key,\n",
    "        }\n",
    "        connection_endpoints_keys.append(each_output)\n",
    "    except Exception as e:\n",
    "        pass\n",
    "connection_endpoints_keys"
   ]
  },
  {
   "cell_type": "markdown",
   "id": "b7a5775f-fd30-4c53-a2ff-5393c2a1f00e",
   "metadata": {},
   "source": [
    "## Embeddings"
   ]
  },
  {
   "cell_type": "code",
   "execution_count": null,
   "id": "94b974b5-6fd2-414e-bd3d-9894aa6e00a0",
   "metadata": {},
   "outputs": [],
   "source": [
    "# embeddings\n",
    "embeddings = project.inference.get_embeddings_client(\n",
    "    connection_name=\"XXXXXXXXXXXXXXXXXXXXXXXXXX\",\n",
    ")\n",
    "emb = embeddings.embed(input=\"testing 123\", model=\"text-embedding-3-small\")\n",
    "print(emb.data[0].embedding[0:10])"
   ]
  },
  {
   "cell_type": "markdown",
   "id": "552ab8b9-8aa6-4c4d-b1ae-3c59dbc07a13",
   "metadata": {},
   "source": [
    "## Inference "
   ]
  },
  {
   "cell_type": "code",
   "execution_count": null,
   "id": "a2ae7f7d-96e0-41f1-99dc-be7c87ab8cca",
   "metadata": {},
   "outputs": [],
   "source": [
    "# auth to model endpoint via API key\n",
    "# also can use credential=DefaultAzureCredential(), credential_scopes=[\"https://cognitiveservices.azure.com/.default\"]\n",
    "# azure openai api-version: https://aka.ms/azsdk/azure-ai-inference/azure-openai-api-versions\n",
    "api_key = \"XXXXXXXXXXXXXXXXXXXXXXXXXXXXXXXXXXXXXXXXXXXXXXXXXXXXXX\"\n",
    "api_version = \"2024-06-01\"\n",
    "chat_client = ChatCompletionsClient(\n",
    "    endpoint=\"https://XXXXXXXXXXXXXXXXXXXXXXXX.openai.azure.com/openai/deployments/gpt-4o-mini\",\n",
    "    credential=AzureKeyCredential(api_key),\n",
    "    api_version=api_version,\n",
    ")\n",
    "response = chat_client.complete(\n",
    "    model=\"gpt-4o-mini\",\n",
    "    messages=[\n",
    "        {\"role\": \"system\", \"content\": \"You are a helpful question and answer agent\"},\n",
    "        {\"role\": \"user\", \"content\": \"Who was the lead singer of Van Halen?\"},\n",
    "    ],\n",
    "    temperature=0.9,\n",
    "    max_tokens=100,\n",
    ")\n",
    "print(response.choices[0].message.content)"
   ]
  },
  {
   "cell_type": "code",
   "execution_count": null,
   "id": "2cff2a9a-9f16-4d78-8874-bdad1a27942e",
   "metadata": {},
   "outputs": [],
   "source": [
    "# auth via azure ai project api\n",
    "chat = project.inference.get_chat_completions_client(\n",
    "    connection_name=\"XXXXXXXXXXXXXXXXXXXXXXXXXXXX\"\n",
    ")\n",
    "response = chat.complete(\n",
    "    model=\"gpt-4o-mini\",\n",
    "    messages=[\n",
    "        {\"role\": \"system\", \"content\": \"You are a helpful question and answer agent\"},\n",
    "        {\"role\": \"user\", \"content\": \"Who was the lead singer of Van Halen?\"},\n",
    "    ],\n",
    "    temperature=0.5,\n",
    "    max_tokens=100,\n",
    ")\n",
    "print(response.choices[0].message.content)"
   ]
  },
  {
   "cell_type": "code",
   "execution_count": null,
   "id": "d5d74e9c-c147-4c10-aae1-d2ad946a1997",
   "metadata": {},
   "outputs": [],
   "source": [
    "# prompt templates\n",
    "prompt_template = PromptTemplate.from_string(\n",
    "    prompt_template=\"\"\"\n",
    "    system:\n",
    "    You are a helpful question and answer agent.\n",
    "    The user's first name is {{first_name}} and their last name is {{last_name}}.\n",
    "    user:\n",
    "    Tell me about the band Van Halen\n",
    "    \"\"\"\n",
    ")\n",
    "# generate system message from the template, passing in the context as variables\n",
    "messages = prompt_template.create_messages(first_name=\"John\", last_name=\"Smith\")\n",
    "print(messages, end=\"\\n\\n\")\n",
    "response = chat.complete(\n",
    "    messages=messages,\n",
    "    model=\"gpt-4o-mini\",\n",
    "    **prompt_template.parameters,\n",
    ")\n",
    "print(response.choices[0].message.content)"
   ]
  },
  {
   "cell_type": "markdown",
   "id": "643fd42e-fea2-4360-a91d-b4b6e4e83758",
   "metadata": {},
   "source": [
    "## AI Search"
   ]
  },
  {
   "cell_type": "code",
   "execution_count": null,
   "id": "1bb51f46-36a1-4640-aab6-34b10498c040",
   "metadata": {},
   "outputs": [],
   "source": [
    "# ai search connection via ai foundry\n",
    "search_connection = project.connections.get_default(\n",
    "    connection_type=ConnectionType.AZURE_AI_SEARCH, include_credentials=True\n",
    ")\n",
    "print(search_connection.name)\n",
    "print(search_connection.endpoint_url)\n",
    "# index\n",
    "index_client = SearchIndexClient(\n",
    "    endpoint=search_connection.endpoint_url,\n",
    "    credential=AzureKeyCredential(key=search_connection.key),\n",
    ")\n",
    "search_client = SearchClient(\n",
    "    index_name=\"hotels-sample-index\",\n",
    "    endpoint=search_connection.endpoint_url,\n",
    "    credential=AzureKeyCredential(key=search_connection.key),\n",
    ")"
   ]
  },
  {
   "cell_type": "code",
   "execution_count": null,
   "id": "47fc590a-3c74-4cd1-b69e-d7b3f09bbdbf",
   "metadata": {},
   "outputs": [],
   "source": [
    "# search\n",
    "response = search_client.search(\"hotels in the united states\", top=3)\n",
    "for each_index, each in enumerate(response):\n",
    "    print(f\"Result #{each_index+1}\")\n",
    "    print(each, end=\"\\n\\n\")"
   ]
  },
  {
   "cell_type": "markdown",
   "id": "ef36641a-5dcb-44c7-bbcb-7dd4255a1f67",
   "metadata": {},
   "source": [
    "## AI Document Intelligence"
   ]
  },
  {
   "cell_type": "code",
   "execution_count": null,
   "id": "5986ca57-ba05-4dc3-b6da-21865494b5b4",
   "metadata": {},
   "outputs": [],
   "source": [
    "# connection params\n",
    "ai_document_intelligence_endpoint = (\n",
    "    \"https://aifoundaryhubXXXXXXXXXXXXXXXXXXXXXXXXXXXXXXX/\"\n",
    ")\n",
    "ai_document_intelligence_key = \"XXXXXXXXXXXXXXXXXXXXXXXXXXXXXXXXXXXXXXXXXXXXXXXXXXXXX\""
   ]
  },
  {
   "cell_type": "code",
   "execution_count": null,
   "id": "2f9440ce-91ad-4aa9-aff8-def724dd4600",
   "metadata": {},
   "outputs": [],
   "source": [
    "# connection\n",
    "document_intelligence_client = DocumentIntelligenceClient(\n",
    "    endpoint=ai_document_intelligence_endpoint,\n",
    "    credential=AzureKeyCredential(ai_document_intelligence_key),\n",
    ")"
   ]
  },
  {
   "cell_type": "code",
   "execution_count": null,
   "id": "8e5c87a6-ac97-42e2-a392-2d3a9bf75ac6",
   "metadata": {},
   "outputs": [],
   "source": [
    "# sample document\n",
    "formUrl = \"https://raw.githubusercontent.com/Azure-Samples/cognitive-services-REST-api-samples/master/curl/form-recognizer/sample-layout.pdf\"\n",
    "# can also use local pdf files:\n",
    "# import base64\n",
    "# with open(file_path, \"rb\") as f:\n",
    "#    base64_encoded_pdf = base64.b64encode(f.read()).decode(\"utf-8\")\n",
    "#    analyze_request = {\n",
    "#        \"base64Source\": base64_encoded_pdf\n",
    "#    }\n",
    "poller = document_intelligence_client.begin_analyze_document(\n",
    "    \"prebuilt-layout\", AnalyzeDocumentRequest(url_source=formUrl)\n",
    ")\n",
    "result = poller.result()"
   ]
  },
  {
   "cell_type": "code",
   "execution_count": null,
   "id": "75077537-0f0f-49e9-a9c8-61fe778bc885",
   "metadata": {},
   "outputs": [],
   "source": [
    "# processing\n",
    "for idx, style in enumerate(result.styles):\n",
    "    print(\n",
    "        \"Document contains {} content\".format(\n",
    "            \"handwritten\" if style.is_handwritten else \"no handwritten\"\n",
    "        )\n",
    "    )\n",
    "for page in result.pages:\n",
    "    for line_idx, line in enumerate(page.lines):\n",
    "        print(\n",
    "            \"...Line # {} has text content '{}'\".format(\n",
    "                line_idx, line.content.encode(\"utf-8\")\n",
    "            )\n",
    "        )\n",
    "    for selection_mark in page.selection_marks:\n",
    "        print(\n",
    "            \"...Selection mark is '{}' and has a confidence of {}\".format(\n",
    "                selection_mark.state, selection_mark.confidence\n",
    "            )\n",
    "        )\n",
    "for table_idx, table in enumerate(result.tables):\n",
    "    print(\n",
    "        \"Table # {} has {} rows and {} columns\".format(\n",
    "            table_idx, table.row_count, table.column_count\n",
    "        )\n",
    "    )\n",
    "    for cell in table.cells:\n",
    "        print(\n",
    "            \"...Cell[{}][{}] has content '{}'\".format(\n",
    "                cell.row_index,\n",
    "                cell.column_index,\n",
    "                cell.content.encode(\"utf-8\"),\n",
    "            )\n",
    "        )"
   ]
  },
  {
   "cell_type": "markdown",
   "id": "9f0d3d1e-d6b0-4161-8f4c-a929a955e8a0",
   "metadata": {},
   "source": [
    "## Other AI Services "
   ]
  },
  {
   "cell_type": "code",
   "execution_count": null,
   "id": "a959bcbe-4e74-4500-a560-79a03f823746",
   "metadata": {},
   "outputs": [],
   "source": [
    "# computer vision: dense captioning\n",
    "services_endpoint = \"https://aifoundaryhubXXXXXXXXXXXXXXXXXXXXXXXXXXXXXXXXXX/\"\n",
    "endpoint_url = f\"{services_endpoint}computervision/imageanalysis:analyze?features=denseCaptions&gender-neutral-caption=false&api-version=2023-10-01\"\n",
    "services_api_key = (\n",
    "    \"XXXXXXXXXXXXXXXXXXXXXXXXXXXXXXXXXXXXXXXXXXXXXXXXXXXXXXXXXXXXXXXXXXXX\"\n",
    ")\n",
    "headers = {\n",
    "    \"Ocp-Apim-Subscription-Key\": services_api_key,\n",
    "    \"Content-Type\": \"application/json; charset=utf-8\",\n",
    "}\n",
    "image_url = (\n",
    "    \"https://ai.azure.com/common/vision/denseCaptioning/DenseCaptioningSample2.png\"\n",
    ")\n",
    "json_data = {\"uri\": image_url}\n",
    "response = requests.post(endpoint_url, headers=headers, json=json_data)\n",
    "response_content = response.text\n",
    "data = json.loads(response_content)\n",
    "print(data)"
   ]
  },
  {
   "cell_type": "markdown",
   "id": "cf52bd8e-ed9f-4c7a-914f-7bf5b0b69a71",
   "metadata": {},
   "source": [
    "## Agent Service"
   ]
  },
  {
   "cell_type": "markdown",
   "id": "350d362f-ec57-4c8a-8e45-21ecd7ff7baf",
   "metadata": {},
   "source": [
    "### Create Agent"
   ]
  },
  {
   "cell_type": "code",
   "execution_count": null,
   "id": "1f476127-ef8b-4763-a986-8259dc244be0",
   "metadata": {},
   "outputs": [],
   "source": [
    "# create agent\n",
    "code_interpreter = CodeInterpreterTool()\n",
    "agent = project.agents.create_agent(\n",
    "    model=\"gpt-4o-mini\",\n",
    "    name=\"my-agent\",\n",
    "    instructions=\"\"\"\n",
    "    You are helpful agent that can generate and run Python code\n",
    "    Instructions:\n",
    "    1. talk like a pirate\n",
    "    2. be nice \n",
    "    \"\"\",\n",
    "    tools=code_interpreter.definitions,\n",
    "    tool_resources=code_interpreter.resources,\n",
    ")\n",
    "print(f\"Created agent, agent ID: {agent.id}\")\n",
    "# create a thread\n",
    "# a thread stores the back-and-forth messages between user and agent\n",
    "thread = project.agents.create_thread()\n",
    "print(f\"Created thread, thread ID: {thread.id}\")"
   ]
  },
  {
   "cell_type": "markdown",
   "id": "7c703dc9-a1a9-4e32-bf18-1f3052afeb8d",
   "metadata": {},
   "source": [
    "### Messages"
   ]
  },
  {
   "cell_type": "code",
   "execution_count": null,
   "id": "2d26eb52-7e2b-45be-b2aa-6920fbc27ebc",
   "metadata": {},
   "outputs": [],
   "source": [
    "# create a message\n",
    "message = project.agents.create_message(\n",
    "    thread_id=thread.id,\n",
    "    role=\"user\",\n",
    "    content=\"\"\"\n",
    "    Create a bar chart for the operating profit using the following data and provide the file to me? \n",
    "    Company A: $1.2 million\n",
    "    Company B: $2.5 million\n",
    "    Company C: $3.0 million\n",
    "    Company D: $1.8 million\n",
    "    \"\"\",\n",
    ")\n",
    "print(f\"Created message, message ID: {message.id}\")\n",
    "# run agent\n",
    "run = project.agents.create_and_process_run(thread_id=thread.id, agent_id=agent.id)\n",
    "print(f\"Run finished with status: {run.status}\")\n",
    "if run.status == \"failed\":\n",
    "    print(f\"Run failed: {run.last_error}\")\n",
    "while run.status in [\"queued\", \"in_progress\", \"requires_action\"]:\n",
    "    time.sleep(10)\n",
    "    run = project.agents.get_run(thread_id=thread_id, run_id=run.id)"
   ]
  },
  {
   "cell_type": "code",
   "execution_count": null,
   "id": "4aaea8ba-865d-4eb4-be9e-de101248d170",
   "metadata": {},
   "outputs": [],
   "source": [
    "# get messages\n",
    "messages = project.agents.list_messages(thread_id=thread.id)\n",
    "print(f\"Messages: {messages}\")"
   ]
  },
  {
   "cell_type": "markdown",
   "id": "d9db3c5b-1df9-4b34-ae4c-0da48a71e112",
   "metadata": {},
   "source": [
    "### Delete Agent"
   ]
  },
  {
   "cell_type": "code",
   "execution_count": null,
   "id": "b4bd1f25-3277-4696-88a7-25d2efecb550",
   "metadata": {},
   "outputs": [],
   "source": [
    "# delete agent\n",
    "project.agents.delete_agent(agent.id)\n",
    "print(f\"Deleted agent: {agent.name}\")"
   ]
  },
  {
   "cell_type": "markdown",
   "id": "ead61924-714c-45f4-9d37-1d4a8043735b",
   "metadata": {},
   "source": [
    "### Get Agent"
   ]
  },
  {
   "cell_type": "code",
   "execution_count": null,
   "id": "af5b9ab8-8746-4758-af6b-c17b3a6da57b",
   "metadata": {},
   "outputs": [],
   "source": [
    "# get created agent\n",
    "project.agents.get_agent(agent_id=\"AGENT_ID\")"
   ]
  },
  {
   "cell_type": "markdown",
   "id": "62069298-9feb-462a-a482-7762e120593d",
   "metadata": {},
   "source": [
    "### Pre-Built Agent Templates"
   ]
  },
  {
   "cell_type": "code",
   "execution_count": null,
   "id": "ba4451aa-5d75-4356-8ead-0dd4554ba386",
   "metadata": {},
   "outputs": [],
   "source": [
    "# file search agent\n",
    "uploaded_ids = []\n",
    "for fp in files:\n",
    "    upl = project.agents.upload_file_and_poll(file_path=fp, purpose=\"assistants\")\n",
    "    uploaded_ids.append(upl.id)\n",
    "vs = project.agents.create_vector_store_and_poll(\n",
    "    file_ids=uploaded_ids, name=\"vector_store_name\"\n",
    ")\n",
    "file_search_tool = FileSearchTool(vector_store_ids=[vstore_id])\n",
    "agent = project.agents.create_agent(\n",
    "    model=\"gpt-4o-mini\",\n",
    "    name=\"search-agent\",\n",
    "    instructions=\"\"\"\n",
    "        Instructions:\n",
    "        1. Answer user questions\n",
    "        1. search the provided files\n",
    "    \"\"\",\n",
    "    tools=file_search_tool.definitions,\n",
    "    tool_resources=file_search_tool.resources,\n",
    ")\n",
    "print(f\"Created agent, agent ID: {agent.id}\")"
   ]
  },
  {
   "cell_type": "code",
   "execution_count": null,
   "id": "83432e65-0724-4373-ab93-f14a93dfda02",
   "metadata": {},
   "outputs": [],
   "source": [
    "# grounding agent\n",
    "bing_connection = project.connections.get(connection_name=\"bing_connection_name\")\n",
    "conn_id = bing_connection.id\n",
    "bing_tool = BingGroundingTool(connection_id=conn_id)\n",
    "agent = project.agents.create_agent(\n",
    "    model=\"gpt-4o-mini\",\n",
    "    name=\"bing-agent\",\n",
    "    instructions=\"\"\"\n",
    "        Instructions:\n",
    "        1. Answer user questions\n",
    "        2. Use Bing for real-time references.\n",
    "    \"\"\",\n",
    "    tools=bing_tool.definitions,\n",
    "    headers={\"x-ms-enable-preview\": \"true\"},\n",
    ")\n",
    "print(f\"Created agent, agent ID: {agent.id}\")"
   ]
  },
  {
   "cell_type": "code",
   "execution_count": null,
   "id": "d206f53b-7484-48ae-8d81-169053d6c622",
   "metadata": {},
   "outputs": [],
   "source": [
    "# ai search agent\n",
    "all_connections = project.connections.list()\n",
    "for c in all_connections:\n",
    "    if c.connection_type == ConnectionType.AZURE_AI_SEARCH:\n",
    "        conn_id = c.id\n",
    "ai_search_tool = AzureAISearchTool(index_connection_id=conn_id, index_name=\"INDEX_NAME\")\n",
    "agent = project_client.agents.create_agent(\n",
    "    model=\"gpt-4o-mini\",\n",
    "    name=\"agent-search\",\n",
    "    instructions=\"\"\"\n",
    "    Answer user questions, look up documents via AI search\n",
    "    \"\"\",\n",
    "    tools=ai_search_tool.definitions,\n",
    "    tool_resources=ai_search_tool.resources,\n",
    "    headers={\"x-ms-enable-preview\": \"true\"},\n",
    ")\n",
    "print(f\"Created agent, agent ID: {agent.id}\")"
   ]
  },
  {
   "cell_type": "code",
   "execution_count": null,
   "id": "de33482d-d8dd-4db2-a5a7-52c2b4d769d1",
   "metadata": {},
   "outputs": [],
   "source": [
    "# azure functions\n",
    "storage_endpoint = \"STORAGE_ENDPOINT\"\n",
    "azure_function_tool = AzureFunctionTool(\n",
    "    name=\"foo\",\n",
    "    description=\"Get advice from 'Foo'.\",\n",
    "    parameters={\n",
    "        \"type\": \"object\",\n",
    "        \"properties\": {\n",
    "            \"query\": {\"type\": \"string\", \"description\": \"The question to ask Foo.\"},\n",
    "            \"outputqueueuri\": {\n",
    "                \"type\": \"string\",\n",
    "                \"description\": \"The output queue URI.\",\n",
    "            },\n",
    "        },\n",
    "    },\n",
    "    input_queue=AzureFunctionStorageQueue(\n",
    "        queue_name=\"azure-function-foo-input\",\n",
    "        storage_service_endpoint=storage_endpoint,\n",
    "    ),\n",
    "    output_queue=AzureFunctionStorageQueue(\n",
    "        queue_name=\"azure-function-tool-output\",\n",
    "        storage_service_endpoint=storage_endpoint,\n",
    "    ),\n",
    ")\n",
    "agent = project.agents.create_agent(\n",
    "    model=os.environ[\"MODEL_DEPLOYMENT_NAME\"],\n",
    "    name=\"azure-function-agent-foo\",\n",
    "    instructions=\"\"\"\n",
    "    You are a helpful support agent.\n",
    "    If the user says 'What would foo say?' then call the foo function\n",
    "    \"\"\",\n",
    "    tools=azure_function_tool.definitions,\n",
    ")\n",
    "print(f\"Created agent, agent ID: {agent.id}\")"
   ]
  },
  {
   "cell_type": "code",
   "execution_count": null,
   "id": "824d9d83-d1fe-4564-8aa3-129e511906e9",
   "metadata": {},
   "outputs": [],
   "source": []
  }
 ],
 "metadata": {
  "kernelspec": {
   "display_name": "Python 3 (ipykernel)",
   "language": "python",
   "name": "python3"
  },
  "language_info": {
   "codemirror_mode": {
    "name": "ipython",
    "version": 3
   },
   "file_extension": ".py",
   "mimetype": "text/x-python",
   "name": "python",
   "nbconvert_exporter": "python",
   "pygments_lexer": "ipython3",
   "version": "3.13.2"
  }
 },
 "nbformat": 4,
 "nbformat_minor": 5
}
